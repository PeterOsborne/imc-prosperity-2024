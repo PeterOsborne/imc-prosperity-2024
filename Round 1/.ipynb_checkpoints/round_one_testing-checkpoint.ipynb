{
 "cells": [
  {
   "cell_type": "code",
   "execution_count": 13,
   "metadata": {},
   "outputs": [
    {
     "name": "stdout",
     "output_type": "stream",
     "text": [
      "\n",
      "DataFrame after splitting the 'data' column:\n",
      "0  -1    0  AMETHYSTS 10002   1  9996   2 9995 29  10004   2  10005  29      \\\n",
      "1  -1    0  STARFRUIT  5045   1  5040  31           5047  31                  \n",
      "2  -1  100  STARFRUIT  5040  24                     5046   2   5047  22       \n",
      "3  -1  100  AMETHYSTS  9996   2  9995  22          10004   2  10005  22       \n",
      "4  -1  200  AMETHYSTS  9995  20                    10005  20                  \n",
      "5  -1  200  STARFRUIT  5041   2  5040  20           5047  20                  \n",
      "\n",
      "0  10003.0  0.0  \n",
      "1   5046.0  0.0  \n",
      "2   5043.0  0.0  \n",
      "3  10000.0  0.0  \n",
      "4  10000.0  0.0  \n",
      "5   5044.0  0.0  \n"
     ]
    }
   ],
   "source": [
    "import csv\n",
    "import pandas as pd\n",
    "\n",
    "file_path = 'data/prices_round_1_day_-1.csv'\n",
    "data = df = pd.read_csv(file_path, encoding='cp1252')\n",
    "data.head()\n",
    "\n",
    "split_data = data['day;timestamp;product;bid_price_1;bid_volume_1;bid_price_2;bid_volume_2;bid_price_3;bid_volume_3;ask_price_1;ask_volume_1;ask_price_2;ask_volume_2;ask_price_3;ask_volume_3;mid_price;profit_and_loss'].str.split(';', expand=True)\n",
    "\n",
    "# Rename the columns using the first row of split_data\n",
    "split_data.columns = split_data.iloc[0]\n",
    "\n",
    "print(\"\\nDataFrame after splitting the 'data' column:\")\n",
    "print(split_data.head())"
   ]
  },
  {
   "cell_type": "code",
   "execution_count": null,
   "metadata": {},
   "outputs": [],
   "source": [
    "data_starfruit = [obj for obj in data if obj[''] < 35]\n"
   ]
  }
 ],
 "metadata": {
  "kernelspec": {
   "display_name": "Python 3 (ipykernel)",
   "language": "python",
   "name": "python3"
  },
  "language_info": {
   "codemirror_mode": {
    "name": "ipython",
    "version": 3
   },
   "file_extension": ".py",
   "mimetype": "text/x-python",
   "name": "python",
   "nbconvert_exporter": "python",
   "pygments_lexer": "ipython3",
   "version": "3.11.5"
  }
 },
 "nbformat": 4,
 "nbformat_minor": 2
}
