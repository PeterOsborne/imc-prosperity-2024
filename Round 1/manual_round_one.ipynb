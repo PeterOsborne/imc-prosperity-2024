{
 "cells": [
  {
   "cell_type": "code",
   "execution_count": null,
   "metadata": {},
   "outputs": [],
   "source": [
    "# Define the objective function\n",
    "def objective_function(x, y):\n",
    "    return (100*(y**2)/10000) - ((x-1)**2)/10000*x - (((y-1)**2 - (x-1)**2 - 1)/10000)*y\n",
    "\n",
    "#     sell = money * prob(person at y) * number of people\n",
    "#     spent on bid 1 = probability of people below bid * the bid\n",
    "#     spent on bid 2 = probability of people below bid 2 but above or equal to bid 1 * the bid\n",
    "    \n",
    "    \n",
    "# Initialize variables to store optimal values\n",
    "optimal_x = 0\n",
    "optimal_y = 0\n",
    "optimal_value = float('-inf')  # Initialize with negative infinity\n",
    "\n",
    "# Iterate over all possible combinations of x and y\n",
    "x = 0\n",
    "while x <= 100:\n",
    "    y = 0\n",
    "    while y <= 100:\n",
    "        # Calculate objective value for current x and y\n",
    "        current_value = objective_function(x, y)\n",
    "        # Check if the current value is greater than the current optimal value\n",
    "        if current_value > optimal_value:\n",
    "            optimal_value = current_value\n",
    "            optimal_x = x\n",
    "            optimal_y = y\n",
    "        y += 1\n",
    "    x += 1\n",
    "\n",
    "# Print the optimal values\n",
    "print(\"Optimal x:\", optimal_x + 900)\n",
    "print(\"Optimal y:\", optimal_y + 900)\n",
    "print(\"Optimal value of the objective function:\", optimal_value)\n"
   ]
  }
 ],
 "metadata": {
  "language_info": {
   "name": "python"
  }
 },
 "nbformat": 4,
 "nbformat_minor": 2
}
