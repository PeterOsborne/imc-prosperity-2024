{
 "cells": [
  {
   "cell_type": "code",
   "execution_count": 126,
   "metadata": {},
   "outputs": [],
   "source": [
    "import numpy as np"
   ]
  },
  {
   "cell_type": "code",
   "execution_count": 127,
   "metadata": {},
   "outputs": [],
   "source": [
    "trade_values = [[1, 0.48, 1.52, 0.71], \n",
    "                [2.05, 1, 3.26, 1.56], \n",
    "                [0.64, 0.3, 1, 0.46], \n",
    "                [1.41, 0.61, 2.08, 1]]\n",
    "trade_values = np.array(trade_values)\n",
    "things = ['Pizza Slice', 'Wasabi Root', 'Snowball', 'Shells']"
   ]
  },
  {
   "cell_type": "code",
   "execution_count": 128,
   "metadata": {},
   "outputs": [],
   "source": [
    "def create_paths(paths, max_len):\n",
    "    new_paths = []\n",
    "    for trade_path in paths:\n",
    "        if len(trade_path) < max_len:\n",
    "            for trade in range(4):\n",
    "                new_paths.append(trade_path + [trade])\n",
    "        else:\n",
    "            return paths\n",
    "    return create_paths(new_paths, max_len)\n",
    "\n",
    "def expand_path(path, end):\n",
    "    new_path = []\n",
    "    for i in range(len(path) - 1):\n",
    "        if path[i] != path[i+1]:\n",
    "            new_path.append((path[i], path[i+1]))\n",
    "\n",
    "    if path[-1] != end:\n",
    "        new_path.append((path[-1], end))\n",
    "        \n",
    "    return new_path\n",
    "\n",
    "def evaluate_path(path):\n",
    "    value = 1\n",
    "    for trade in path:\n",
    "        value *= trade_values[trade]\n",
    "    return value"
   ]
  },
  {
   "cell_type": "code",
   "execution_count": 129,
   "metadata": {},
   "outputs": [
    {
     "name": "stdout",
     "output_type": "stream",
     "text": [
      "1.0569693888 ['Shells', 'Pizza Slice', 'Wasabi Root', 'Shells', 'Pizza Slice', 'Shells']\n"
     ]
    }
   ],
   "source": [
    "paths = [[3]]\n",
    "paths = create_paths(paths, 5)\n",
    "expanded_paths = [expand_path(path,3) for path in paths]\n",
    "values = [evaluate_path(path) for path in expanded_paths]\n",
    "best_path = [things[i] for i in paths[np.argmax(values)] + [3]]\n",
    "\n",
    "print(max(values), best_path)"
   ]
  },
  {
   "cell_type": "code",
   "execution_count": 130,
   "metadata": {},
   "outputs": [
    {
     "data": {
      "text/plain": [
       "[1.0569693888, 1.0569693887999998]"
      ]
     },
     "execution_count": 130,
     "metadata": {},
     "output_type": "execute_result"
    }
   ],
   "source": [
    "[value for value in values if value > 1.05585]"
   ]
  }
 ],
 "metadata": {
  "kernelspec": {
   "display_name": "Python 3 (ipykernel)",
   "language": "python",
   "name": "python3"
  },
  "language_info": {
   "codemirror_mode": {
    "name": "ipython",
    "version": 3
   },
   "file_extension": ".py",
   "mimetype": "text/x-python",
   "name": "python",
   "nbconvert_exporter": "python",
   "pygments_lexer": "ipython3",
   "version": "3.10.0"
  }
 },
 "nbformat": 4,
 "nbformat_minor": 2
}
