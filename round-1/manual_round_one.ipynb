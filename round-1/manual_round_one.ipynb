{
 "cells": [
  {
   "cell_type": "code",
   "execution_count": 37,
   "metadata": {},
   "outputs": [
    {
     "name": "stdout",
     "output_type": "stream",
     "text": [
      "Optimal x: 953\n",
      "Optimal y: 979\n",
      "Optimal value of the objective function: 19.81470000000001\n"
     ]
    }
   ],
   "source": [
    "# Define the objective function\n",
    "def objective_function(x, y):\n",
    "    return (100*((y-1)**2)/10000) - ((x-1)**2)/10000*x - (((y-1)**2 - (x-1)**2 - 1)/10000)*y\n",
    "\n",
    "#     sell = money * prob(person at y) * number of people\n",
    "#     spent on bid 1 = probability of people below bid * the bid\n",
    "#     spent on bid 2 = probability of people below bid 2 but above or equal to bid 1 * the bid\n",
    "    \n",
    "    \n",
    "# Initialize variables to store optimal values\n",
    "optimal_x = 0\n",
    "optimal_y = 0\n",
    "optimal_value = float('-inf')  # Initialize with negative infinity\n",
    "\n",
    "# Iterate over all possible combinations of x and y\n",
    "x = 0\n",
    "while x <= 100:\n",
    "    y = 0\n",
    "    while y <= 100:\n",
    "        # Calculate objective value for current x and y\n",
    "        current_value = objective_function(x, y)\n",
    "        # Check if the current value is greater than the current optimal value\n",
    "        if current_value > optimal_value:\n",
    "            optimal_value = current_value\n",
    "            optimal_x = x\n",
    "            optimal_y = y\n",
    "        y += 1\n",
    "    x += 1\n",
    "\n",
    "# Print the optimal values\n",
    "print(\"Optimal x:\", optimal_x + 900)\n",
    "print(\"Optimal y:\", optimal_y + 900)\n",
    "print(\"Optimal value of the objective function:\", optimal_value)\n"
   ]
  },
  {
   "cell_type": "code",
   "execution_count": 49,
   "metadata": {},
   "outputs": [
    {
     "data": {
      "text/plain": [
       "0.01"
      ]
     },
     "execution_count": 49,
     "metadata": {},
     "output_type": "execute_result"
    }
   ],
   "source": [
    "objective_function(0, 0)"
   ]
  },
  {
   "cell_type": "code",
   "execution_count": 50,
   "metadata": {},
   "outputs": [
    {
     "data": {
      "text/plain": [
       "0.0002"
      ]
     },
     "execution_count": 50,
     "metadata": {},
     "output_type": "execute_result"
    }
   ],
   "source": [
    "objective_function(0, 1)"
   ]
  },
  {
   "cell_type": "code",
   "execution_count": 40,
   "metadata": {},
   "outputs": [
    {
     "data": {
      "text/plain": [
       "0.01"
      ]
     },
     "execution_count": 40,
     "metadata": {},
     "output_type": "execute_result"
    }
   ],
   "source": [
    "objective_function(0, 0)"
   ]
  },
  {
   "cell_type": "code",
   "execution_count": 46,
   "metadata": {},
   "outputs": [],
   "source": [
    "# Define the probability function\n",
    "def acceptance_probability(R, B):\n",
    "\n",
    "    if R <= B:\n",
    "        return (1/5000) * R - (9/50)\n",
    "    else:\n",
    "        return 0\n",
    "\n",
    "# Define the expected profit function\n",
    "def expected_profit(B, r):\n",
    "    total = 0\n",
    "    for R in range(r, 1001):\n",
    "        total += (1000 - B) * acceptance_probability(R, B)\n",
    "    return total\n",
    "\n",
    "\n",
    "# Define the negative of the total expected profit\n",
    "def total_expected_profit(x,y):\n",
    "    return (expected_profit(x, 900) + expected_profit(y, x+1))\n",
    "\n",
    "\n",
    "\n",
    "# Initialize variables to store optimal values\n",
    "optimal_x = 0\n",
    "optimal_y = 0\n",
    "optimal_value = float('-inf')  # Initialize with negative infinity\n",
    "\n",
    "# Iterate over all possible combinations of x and y\n",
    "x = 900\n",
    "while x <= 1000:\n",
    "    y = 900\n",
    "    while y <= 1000:\n",
    "        # Calculate objective value for current x and y\n",
    "        # if y <= x:\n",
    "        #     y += 1\n",
    "        #     continue\n",
    "        current_value = total_expected_profit(x, y)\n",
    "        # Check if the current value is greater than the current optimal value\n",
    "        if current_value > optimal_value and x != y:\n",
    "            optimal_value = current_value\n",
    "            optimal_x = x\n",
    "            optimal_y = y\n",
    "        y += 1\n",
    "    x += 1\n",
    "    \n"
   ]
  },
  {
   "cell_type": "code",
   "execution_count": null,
   "metadata": {},
   "outputs": [],
   "source": []
  }
 ],
 "metadata": {
  "kernelspec": {
   "display_name": "Python 3 (ipykernel)",
   "language": "python",
   "name": "python3"
  },
  "language_info": {
   "codemirror_mode": {
    "name": "ipython",
    "version": 3
   },
   "file_extension": ".py",
   "mimetype": "text/x-python",
   "name": "python",
   "nbconvert_exporter": "python",
   "pygments_lexer": "ipython3",
   "version": "3.11.5"
  }
 },
 "nbformat": 4,
 "nbformat_minor": 2
}
